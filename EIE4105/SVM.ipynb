{
 "cells": [
  {
   "cell_type": "markdown",
   "id": "fe8cbe40",
   "metadata": {
    "id": "5e5ef641"
   },
   "source": [
    "# Support Vector Machines"
   ]
  },
  {
   "cell_type": "markdown",
   "id": "c1064ef2",
   "metadata": {
    "id": "57cf41ba"
   },
   "source": [
    "Use SVM classifiers to classify handwritten digits "
   ]
  },
  {
   "cell_type": "code",
   "execution_count": 1,
   "id": "97a9491c",
   "metadata": {
    "colab": {
     "base_uri": "https://localhost:8080/"
    },
    "executionInfo": {
     "elapsed": 16067,
     "status": "ok",
     "timestamp": 1646058185246,
     "user": {
      "displayName": "李哲",
      "photoUrl": "https://lh3.googleusercontent.com/a-/AOh14GgPSaDQL0KO4QQ5yr005cvXpyWfSyYMyvxyej4w=s64",
      "userId": "17492101088767945879"
     },
     "user_tz": -480
    },
    "id": "e99aace5",
    "outputId": "d7b2dce0-0c1a-47dd-9088-c764e9a456de"
   },
   "outputs": [
    {
     "name": "stdout",
     "output_type": "stream",
     "text": [
      "Mounted at /content/drive\n",
      "/content/drive/My Drive/Learning/EIE4105/lab2/python\n"
     ]
    }
   ],
   "source": [
    "# Mount Google drive and cd to working folder\n",
    "from google.colab import drive\n",
    "drive.mount('/content/drive', force_remount=True)\n",
    "%cd /content/drive/My Drive/Learning/EIE4105/lab2/python/"
   ]
  },
  {
   "cell_type": "code",
   "execution_count": 1,
   "id": "2590dc8b",
   "metadata": {
    "executionInfo": {
     "elapsed": 1263,
     "status": "ok",
     "timestamp": 1646058187874,
     "user": {
      "displayName": "李哲",
      "photoUrl": "https://lh3.googleusercontent.com/a-/AOh14GgPSaDQL0KO4QQ5yr005cvXpyWfSyYMyvxyej4w=s64",
      "userId": "17492101088767945879"
     },
     "user_tz": -480
    },
    "id": "17e00357"
   },
   "outputs": [],
   "source": [
    "from sklearn.metrics import accuracy_score\n",
    "from sklearn.svm import SVC, LinearSVC"
   ]
  },
  {
   "cell_type": "markdown",
   "id": "7ad4522f",
   "metadata": {},
   "source": [
    "<font color='blue'>Step 6</font>"
   ]
  },
  {
   "cell_type": "code",
   "execution_count": 2,
   "id": "dc7ab68c",
   "metadata": {
    "colab": {
     "base_uri": "https://localhost:8080/"
    },
    "executionInfo": {
     "elapsed": 4365,
     "status": "ok",
     "timestamp": 1646058218936,
     "user": {
      "displayName": "李哲",
      "photoUrl": "https://lh3.googleusercontent.com/a-/AOh14GgPSaDQL0KO4QQ5yr005cvXpyWfSyYMyvxyej4w=s64",
      "userId": "17492101088767945879"
     },
     "user_tz": -480
    },
    "id": "0a614a2e",
    "outputId": "e37fb312-dd73-4595-ec30-6167387de38d"
   },
   "outputs": [
    {
     "name": "stdout",
     "output_type": "stream",
     "text": [
      "(100, 784)\n"
     ]
    }
   ],
   "source": [
    "# Load N training samples\n",
    "from mnist import load_SampleMnist\n",
    "nSamples = 10\n",
    "trainpath = '../../lab1/data/noisy_train_digits.mat'\n",
    "testpath = '../../lab1/data/noisy_test_digits.mat'\n",
    "train_data, train_labels, test_data, test_labels = load_SampleMnist(trainpath,testpath,nSamples)\n",
    "print(train_data.shape)"
   ]
  },
  {
   "cell_type": "markdown",
   "id": "148dc546",
   "metadata": {
    "id": "c9572050"
   },
   "source": [
    "# SVM Classifier with Linear Kernels (Linear SVC)\n",
    "Train and test a linear SVM classifier on MNIST data using the default setting of the SVM\n",
    "Refer to https://scikit-learn.org/stable/modules/generated/sklearn.svm.LinearSVC.html for the documentation of LinearSVC in the sklearn.svm package."
   ]
  },
  {
   "cell_type": "code",
   "execution_count": 3,
   "id": "26c26bd2",
   "metadata": {
    "colab": {
     "base_uri": "https://localhost:8080/"
    },
    "executionInfo": {
     "elapsed": 7063,
     "status": "ok",
     "timestamp": 1646058227120,
     "user": {
      "displayName": "李哲",
      "photoUrl": "https://lh3.googleusercontent.com/a-/AOh14GgPSaDQL0KO4QQ5yr005cvXpyWfSyYMyvxyej4w=s64",
      "userId": "17492101088767945879"
     },
     "user_tz": -480
    },
    "id": "2512649c",
    "outputId": "f85e7915-0f89-4bb4-f658-9b80b81bac3e"
   },
   "outputs": [
    {
     "name": "stdout",
     "output_type": "stream",
     "text": [
      "[0 1 2 3 4 5 6 7 8 9]\n",
      "(10, 784)\n"
     ]
    }
   ],
   "source": [
    "svm = LinearSVC(dual=True, multi_class='ovr', loss='hinge')\n",
    "svm.fit(train_data, train_labels)\n",
    "print(svm.classes_)\n",
    "print(svm.coef_.shape)"
   ]
  },
  {
   "cell_type": "code",
   "execution_count": 4,
   "id": "e4358763",
   "metadata": {
    "executionInfo": {
     "elapsed": 377,
     "status": "ok",
     "timestamp": 1646058229175,
     "user": {
      "displayName": "李哲",
      "photoUrl": "https://lh3.googleusercontent.com/a-/AOh14GgPSaDQL0KO4QQ5yr005cvXpyWfSyYMyvxyej4w=s64",
      "userId": "17492101088767945879"
     },
     "user_tz": -480
    },
    "id": "9a084cf3"
   },
   "outputs": [],
   "source": [
    "pred = svm.predict(test_data)"
   ]
  },
  {
   "cell_type": "code",
   "execution_count": 5,
   "id": "45dfd4a0",
   "metadata": {
    "colab": {
     "base_uri": "https://localhost:8080/"
    },
    "executionInfo": {
     "elapsed": 272,
     "status": "ok",
     "timestamp": 1646058232652,
     "user": {
      "displayName": "李哲",
      "photoUrl": "https://lh3.googleusercontent.com/a-/AOh14GgPSaDQL0KO4QQ5yr005cvXpyWfSyYMyvxyej4w=s64",
      "userId": "17492101088767945879"
     },
     "user_tz": -480
    },
    "id": "a5fba1a1",
    "outputId": "cc8cae2e-0f37-4503-a237-26754115f67c"
   },
   "outputs": [
    {
     "name": "stdout",
     "output_type": "stream",
     "text": [
      "0.6811\n"
     ]
    }
   ],
   "source": [
    "# Compute accuracy\n",
    "acc = accuracy_score(test_labels, pred)\n",
    "print(acc)"
   ]
  },
  {
   "cell_type": "markdown",
   "id": "76521a01",
   "metadata": {
    "id": "67ceadf8"
   },
   "source": [
    "# SVM Classifier with Polynomial kernels\n",
    "Refer to https://scikit-learn.org/stable/modules/generated/sklearn.svm.SVC.html#sklearn.svm.SVC for the documentation of SVM classifiers with polynomial kernels and RBF kernels."
   ]
  },
  {
   "cell_type": "markdown",
   "id": "bb86f383",
   "metadata": {},
   "source": [
    "<font color='blue'>Steps 7--8</font>"
   ]
  },
  {
   "cell_type": "code",
   "execution_count": 6,
   "id": "70cd6125",
   "metadata": {},
   "outputs": [
    {
     "name": "stdout",
     "output_type": "stream",
     "text": [
      "(7850, 784)\n"
     ]
    }
   ],
   "source": [
    "# Load N training samples\n",
    "from mnist import load_SampleMnist\n",
    "nSamples = 785\n",
    "trainpath = '../../lab1/data/noisy_train_digits.mat'\n",
    "testpath = '../../lab1/data/noisy_test_digits.mat'\n",
    "train_data, train_labels, test_data, test_labels = load_SampleMnist(trainpath,testpath,nSamples)\n",
    "print(train_data.shape)"
   ]
  },
  {
   "cell_type": "code",
   "execution_count": 7,
   "id": "9c9ea445",
   "metadata": {
    "colab": {
     "base_uri": "https://localhost:8080/"
    },
    "executionInfo": {
     "elapsed": 287,
     "status": "ok",
     "timestamp": 1646058237342,
     "user": {
      "displayName": "李哲",
      "photoUrl": "https://lh3.googleusercontent.com/a-/AOh14GgPSaDQL0KO4QQ5yr005cvXpyWfSyYMyvxyej4w=s64",
      "userId": "17492101088767945879"
     },
     "user_tz": -480
    },
    "id": "a4b5402b",
    "outputId": "40ae6ac6-0795-46d9-ed6a-9a7d212f4ca1"
   },
   "outputs": [
    {
     "data": {
      "text/plain": [
       "SVC(degree=2, kernel='poly')"
      ]
     },
     "execution_count": 7,
     "metadata": {},
     "output_type": "execute_result"
    }
   ],
   "source": [
    "kerType = 'poly';\n",
    "kerPara = 2; \n",
    "svm = SVC(kernel=kerType ,degree=kerPara)\n",
    "svm.fit(train_data, train_labels)"
   ]
  },
  {
   "cell_type": "code",
   "execution_count": 8,
   "id": "3ba03903",
   "metadata": {
    "executionInfo": {
     "elapsed": 3704,
     "status": "ok",
     "timestamp": 1646058243925,
     "user": {
      "displayName": "李哲",
      "photoUrl": "https://lh3.googleusercontent.com/a-/AOh14GgPSaDQL0KO4QQ5yr005cvXpyWfSyYMyvxyej4w=s64",
      "userId": "17492101088767945879"
     },
     "user_tz": -480
    },
    "id": "2871fea4"
   },
   "outputs": [],
   "source": [
    "pred = svm.predict(test_data)"
   ]
  },
  {
   "cell_type": "code",
   "execution_count": 9,
   "id": "62ae22ce",
   "metadata": {
    "colab": {
     "base_uri": "https://localhost:8080/"
    },
    "executionInfo": {
     "elapsed": 283,
     "status": "ok",
     "timestamp": 1646058246454,
     "user": {
      "displayName": "李哲",
      "photoUrl": "https://lh3.googleusercontent.com/a-/AOh14GgPSaDQL0KO4QQ5yr005cvXpyWfSyYMyvxyej4w=s64",
      "userId": "17492101088767945879"
     },
     "user_tz": -480
    },
    "id": "fc363aca",
    "outputId": "90c0e79b-3379-4637-bfd8-f400b8eef997"
   },
   "outputs": [
    {
     "data": {
      "text/plain": [
       "0.9569"
      ]
     },
     "execution_count": 9,
     "metadata": {},
     "output_type": "execute_result"
    }
   ],
   "source": [
    "accuracy_score(test_labels, pred) # Accuracy"
   ]
  },
  {
   "cell_type": "code",
   "execution_count": 12,
   "id": "e99ff98b",
   "metadata": {
    "colab": {
     "base_uri": "https://localhost:8080/"
    },
    "executionInfo": {
     "elapsed": 309,
     "status": "ok",
     "timestamp": 1646058248839,
     "user": {
      "displayName": "李哲",
      "photoUrl": "https://lh3.googleusercontent.com/a-/AOh14GgPSaDQL0KO4QQ5yr005cvXpyWfSyYMyvxyej4w=s64",
      "userId": "17492101088767945879"
     },
     "user_tz": -480
    },
    "id": "223c9098",
    "outputId": "b8b850ab-b087-4f2a-b1d6-7a224a5f4b00"
   },
   "outputs": [
    {
     "name": "stdout",
     "output_type": "stream",
     "text": [
      "[199 153 354 356 360 439 243 308 379 393]\n",
      "(3184, 784)\n",
      "(3184,)\n"
     ]
    }
   ],
   "source": [
    "import matplotlib.pyplot as plt\n",
    "print(svm.n_support_)                # Number of support vectors for each class\n",
    "print(svm.support_vectors_.shape)    # Shape of SV matrix: (total_num_of_sv, feature_dim)\n",
    "print(svm.support_.shape)            # Indexes of SV to the train_data[:,:] matrix"
   ]
  },
  {
   "cell_type": "code",
   "execution_count": 13,
   "id": "6f64dff0",
   "metadata": {
    "colab": {
     "base_uri": "https://localhost:8080/",
     "height": 283
    },
    "executionInfo": {
     "elapsed": 754,
     "status": "ok",
     "timestamp": 1646058251635,
     "user": {
      "displayName": "李哲",
      "photoUrl": "https://lh3.googleusercontent.com/a-/AOh14GgPSaDQL0KO4QQ5yr005cvXpyWfSyYMyvxyej4w=s64",
      "userId": "17492101088767945879"
     },
     "user_tz": -480
    },
    "id": "f546195f",
    "outputId": "1587b6e9-8c3c-447d-bb21-b53426546c5f"
   },
   "outputs": [
    {
     "name": "stdout",
     "output_type": "stream",
     "text": [
      "Digit 0\n"
     ]
    },
    {
     "data": {
      "image/png": "[encoded data removed]",
      "text/plain": [
       "<Figure size 432x288 with 1 Axes>"
      ]
     },
     "metadata": {
      "needs_background": "light"
     },
     "output_type": "display_data"
    }
   ],
   "source": [
    "import numpy as np\n",
    "d = 0\n",
    "last = np.sum(svm.n_support_[:d+1]) - 1                   # Index to the last SV of Digit d\n",
    "first = np.sum(svm.n_support_[:d+1]) - svm.n_support_[d]  # Index to the first SV of Digit d\n",
    "plt.imshow(svm.support_vectors_[first].reshape(28,28))    # Image of the first SV of Digit d\n",
    "print(f\"Digit {train_labels[svm.support_[first]]}\")"
   ]
  },
  {
   "cell_type": "markdown",
   "id": "6daa5a0d",
   "metadata": {},
   "source": [
    "<font color='blue'>Step 9</font>"
   ]
  },
  {
   "cell_type": "code",
   "execution_count": 14,
   "id": "1091753b",
   "metadata": {
    "colab": {
     "base_uri": "https://localhost:8080/"
    },
    "executionInfo": {
     "elapsed": 291,
     "status": "ok",
     "timestamp": 1646058255169,
     "user": {
      "displayName": "李哲",
      "photoUrl": "https://lh3.googleusercontent.com/a-/AOh14GgPSaDQL0KO4QQ5yr005cvXpyWfSyYMyvxyej4w=s64",
      "userId": "17492101088767945879"
     },
     "user_tz": -480
    },
    "id": "0bad372e",
    "outputId": "e2d967e2-cb06-4074-a339-8fd06247e3a5"
   },
   "outputs": [
    {
     "name": "stdout",
     "output_type": "stream",
     "text": [
      "(1, 561)\n",
      "[402 159]\n"
     ]
    }
   ],
   "source": [
    "# To inspect the values of alpha_i x y_i (where alpha_i>0), you need to use \n",
    "# sklearn.svm.SVC as a binary classifier, i.e., we use one SVM for each digit \n",
    "# and ask the SVM to consider one digit as the positive class and the rest as \n",
    "# the negative classes. Therefore, we need to modify the train_labels[]\n",
    "d = 0\n",
    "labels = np.copy(train_labels)    # Deep copy\n",
    "labels[labels != d] = d-1    # Make it not Digit d\n",
    "kerType = 'poly';\n",
    "kerPara = 2; \n",
    "svm = SVC(kernel=kerType ,degree=kerPara, C=10)\n",
    "svm.fit(train_data, labels)\n",
    "print(svm.dual_coef_.shape)\n",
    "print(svm.n_support_) "
   ]
  },
  {
   "cell_type": "code",
   "execution_count": 15,
   "id": "7be09627",
   "metadata": {
    "colab": {
     "base_uri": "https://localhost:8080/",
     "height": 279
    },
    "executionInfo": {
     "elapsed": 6,
     "status": "ok",
     "timestamp": 1646058257919,
     "user": {
      "displayName": "李哲",
      "photoUrl": "https://lh3.googleusercontent.com/a-/AOh14GgPSaDQL0KO4QQ5yr005cvXpyWfSyYMyvxyej4w=s64",
      "userId": "17492101088767945879"
     },
     "user_tz": -480
    },
    "id": "71614ab0",
    "outputId": "69a90c29-1473-485d-96dc-72e923a10837"
   },
   "outputs": [
    {
     "data": {
      "image/png": "[encoded data removed]",
      "text/plain": [
       "<Figure size 432x288 with 1 Axes>"
      ]
     },
     "metadata": {
      "needs_background": "light"
     },
     "output_type": "display_data"
    }
   ],
   "source": [
    "# Plot alpha_i x y_i\n",
    "import matplotlib.pyplot as plt\n",
    "alphaY = svm.dual_coef_[0,:]\n",
    "plt.plot(alphaY)\n",
    "plt.xlabel('Sample index')\n",
    "plt.ylabel('alphaY')\n",
    "plt.show()"
   ]
  },
  {
   "cell_type": "code",
   "execution_count": 16,
   "id": "54dd46c0",
   "metadata": {
    "colab": {
     "base_uri": "https://localhost:8080/",
     "height": 236
    },
    "executionInfo": {
     "elapsed": 610,
     "status": "ok",
     "timestamp": 1646058262093,
     "user": {
      "displayName": "李哲",
      "photoUrl": "https://lh3.googleusercontent.com/a-/AOh14GgPSaDQL0KO4QQ5yr005cvXpyWfSyYMyvxyej4w=s64",
      "userId": "17492101088767945879"
     },
     "user_tz": -480
    },
    "id": "77a02d76",
    "outputId": "67ddd880-3964-4f89-ff68-fa5972057158"
   },
   "outputs": [
    {
     "name": "stdout",
     "output_type": "stream",
     "text": [
      "Positive Class: Digit 0\n",
      "Negative class: Digit 6\n"
     ]
    },
    {
     "data": {
      "image/png": "[encoded data removed]",
      "text/plain": [
       "<Figure size 432x288 with 2 Axes>"
      ]
     },
     "metadata": {
      "needs_background": "light"
     },
     "output_type": "display_data"
    }
   ],
   "source": [
    "# Plot the most influential SV the positive-class and negative-class, respectively.\n",
    "# The SV from the positive class should be a Digit \"d\" but does not look like a \"d\"\n",
    "# The SV from the negative class should not be a \"d\" but looks like a \"d\"\n",
    "fig, ax = plt.subplots(nrows=1, ncols=2, sharex=True, sharey=True, )\n",
    "pos = np.argmax(alphaY)\n",
    "neg = np.argmin(alphaY)\n",
    "pos_img = svm.support_vectors_[pos].reshape(28,28)\n",
    "neg_img = svm.support_vectors_[neg].reshape(28,28)\n",
    "ax[0].imshow(pos_img, interpolation='nearest')\n",
    "ax[1].imshow(neg_img, interpolation='nearest')\n",
    "print(f'Positive Class: Digit {train_labels[svm.support_[pos]]}')\n",
    "print(f'Negative class: Digit {train_labels[svm.support_[neg]]}')"
   ]
  },
  {
   "cell_type": "markdown",
   "id": "7a434abf",
   "metadata": {
    "id": "30d8462d"
   },
   "source": [
    "# SVM Classifier with RBF Kernels (SVC RBF)\n"
   ]
  },
  {
   "cell_type": "markdown",
   "id": "f356f2bd",
   "metadata": {},
   "source": [
    "<font color='blue'>Step 10</font>"
   ]
  },
  {
   "cell_type": "code",
   "execution_count": 17,
   "id": "c68998df",
   "metadata": {
    "colab": {
     "base_uri": "https://localhost:8080/"
    },
    "executionInfo": {
     "elapsed": 771,
     "status": "ok",
     "timestamp": 1646058273569,
     "user": {
      "displayName": "李哲",
      "photoUrl": "https://lh3.googleusercontent.com/a-/AOh14GgPSaDQL0KO4QQ5yr005cvXpyWfSyYMyvxyej4w=s64",
      "userId": "17492101088767945879"
     },
     "user_tz": -480
    },
    "id": "706372b7",
    "outputId": "e9a2dea8-7f20-4c3b-e184-2323a236ce5a"
   },
   "outputs": [
    {
     "name": "stdout",
     "output_type": "stream",
     "text": [
      "{'C': 10, 'break_ties': False, 'cache_size': 200, 'class_weight': None, 'coef0': 0.0, 'decision_function_shape': 'ovr', 'degree': 3, 'gamma': 0.002, 'kernel': 'rbf', 'max_iter': -1, 'probability': False, 'random_state': None, 'shrinking': True, 'tol': 0.001, 'verbose': False}\n"
     ]
    }
   ],
   "source": [
    "kerType = 'rbf'\n",
    "kerPara = 1/500\n",
    "svm = SVC(kernel=kerType, gamma=kerPara, C=10)\n",
    "svm.fit(train_data, train_labels)\n",
    "print(svm.get_params())"
   ]
  },
  {
   "cell_type": "code",
   "execution_count": 18,
   "id": "23ddfa8d",
   "metadata": {
    "executionInfo": {
     "elapsed": 5488,
     "status": "ok",
     "timestamp": 1646058281208,
     "user": {
      "displayName": "李哲",
      "photoUrl": "https://lh3.googleusercontent.com/a-/AOh14GgPSaDQL0KO4QQ5yr005cvXpyWfSyYMyvxyej4w=s64",
      "userId": "17492101088767945879"
     },
     "user_tz": -480
    },
    "id": "72d7ea69"
   },
   "outputs": [],
   "source": [
    "pred = svm.predict(test_data)"
   ]
  },
  {
   "cell_type": "code",
   "execution_count": 19,
   "id": "713a7e0d",
   "metadata": {
    "colab": {
     "base_uri": "https://localhost:8080/"
    },
    "executionInfo": {
     "elapsed": 264,
     "status": "ok",
     "timestamp": 1646058283549,
     "user": {
      "displayName": "李哲",
      "photoUrl": "https://lh3.googleusercontent.com/a-/AOh14GgPSaDQL0KO4QQ5yr005cvXpyWfSyYMyvxyej4w=s64",
      "userId": "17492101088767945879"
     },
     "user_tz": -480
    },
    "id": "9667421d",
    "outputId": "215ad404-6688-4a16-bb83-fa8aec305b6f"
   },
   "outputs": [
    {
     "data": {
      "text/plain": [
       "0.9634"
      ]
     },
     "execution_count": 19,
     "metadata": {},
     "output_type": "execute_result"
    }
   ],
   "source": [
    "accuracy_score(test_labels, pred) # Accuracy"
   ]
  },
  {
   "cell_type": "code",
   "execution_count": 20,
   "id": "5c93febe",
   "metadata": {
    "colab": {
     "base_uri": "https://localhost:8080/"
    },
    "executionInfo": {
     "elapsed": 263,
     "status": "ok",
     "timestamp": 1646058285396,
     "user": {
      "displayName": "李哲",
      "photoUrl": "https://lh3.googleusercontent.com/a-/AOh14GgPSaDQL0KO4QQ5yr005cvXpyWfSyYMyvxyej4w=s64",
      "userId": "17492101088767945879"
     },
     "user_tz": -480
    },
    "id": "2ce8a9f5",
    "outputId": "cd879094-98ae-4bc6-fb54-580a05a99390"
   },
   "outputs": [
    {
     "name": "stdout",
     "output_type": "stream",
     "text": [
      "[292 281 469 481 484 571 387 423 519 544]\n",
      "(4451, 784)\n",
      "(4451,)\n"
     ]
    }
   ],
   "source": [
    "import matplotlib.pyplot as plt\n",
    "print(svm.n_support_)                # Number of support vectors for each class\n",
    "print(svm.support_vectors_.shape)    # Shape of SV matrix: (total_num_of_sv, feature_dim)\n",
    "print(svm.support_.shape)            # Indexes of SV to train_data[][] matrix"
   ]
  },
  {
   "cell_type": "code",
   "execution_count": 21,
   "id": "0287c04c",
   "metadata": {
    "colab": {
     "base_uri": "https://localhost:8080/",
     "height": 283
    },
    "executionInfo": {
     "elapsed": 495,
     "status": "ok",
     "timestamp": 1646058288960,
     "user": {
      "displayName": "李哲",
      "photoUrl": "https://lh3.googleusercontent.com/a-/AOh14GgPSaDQL0KO4QQ5yr005cvXpyWfSyYMyvxyej4w=s64",
      "userId": "17492101088767945879"
     },
     "user_tz": -480
    },
    "id": "6a130952",
    "outputId": "2e75b5cf-0291-4824-ba2f-83d3c3b8f9b9"
   },
   "outputs": [
    {
     "name": "stdout",
     "output_type": "stream",
     "text": [
      "Digit 4\n"
     ]
    },
    {
     "data": {
      "image/png": "[encoded data removed]",
      "text/plain": [
       "<Figure size 432x288 with 1 Axes>"
      ]
     },
     "metadata": {
      "needs_background": "light"
     },
     "output_type": "display_data"
    }
   ],
   "source": [
    "import numpy as np\n",
    "d = 4\n",
    "last = np.sum(svm.n_support_[:d+1]) - 1                   # Index to the last SV of Class d\n",
    "first = np.sum(svm.n_support_[:d+1]) - svm.n_support_[d]  # Index to the first SV of Class d\n",
    "plt.imshow(svm.support_vectors_[first].reshape(28,28))    # Image of the first SV of Class d\n",
    "print(f\"Digit {train_labels[svm.support_[first]]}\")"
   ]
  },
  {
   "cell_type": "code",
   "execution_count": 22,
   "id": "78f9e88b",
   "metadata": {
    "colab": {
     "base_uri": "https://localhost:8080/"
    },
    "executionInfo": {
     "elapsed": 596,
     "status": "ok",
     "timestamp": 1646058294825,
     "user": {
      "displayName": "李哲",
      "photoUrl": "https://lh3.googleusercontent.com/a-/AOh14GgPSaDQL0KO4QQ5yr005cvXpyWfSyYMyvxyej4w=s64",
      "userId": "17492101088767945879"
     },
     "user_tz": -480
    },
    "id": "52350317",
    "outputId": "94d08ef0-988d-4bb4-ab34-f276ef88caee"
   },
   "outputs": [
    {
     "name": "stdout",
     "output_type": "stream",
     "text": [
      "(1, 517)\n",
      "[327 190]\n"
     ]
    }
   ],
   "source": [
    "# To inspect the values of alpha_i x y_i (where alpha_i>0), you need to use \n",
    "# sklearn.svm.SVC as a binary classifier, i.e., we use one SVM for each digit \n",
    "# and ask the SVM to consider one digit as the positive class and the rest as \n",
    "# the negative classes. Therefore, we need to modify the train_labels[]\n",
    "d = 0\n",
    "labels = np.copy(train_labels)    # Deep copy\n",
    "labels[labels != d] = d-1    # Make it not Digit d\n",
    "kerType = 'rbf';\n",
    "kerPara = 2; \n",
    "svm = SVC(kernel=kerType ,degree=kerPara, C=10)\n",
    "svm.fit(train_data, labels)\n",
    "print(svm.dual_coef_.shape)\n",
    "print(svm.n_support_) "
   ]
  },
  {
   "cell_type": "code",
   "execution_count": 23,
   "id": "35416567",
   "metadata": {
    "colab": {
     "base_uri": "https://localhost:8080/",
     "height": 283
    },
    "executionInfo": {
     "elapsed": 700,
     "status": "ok",
     "timestamp": 1646058297870,
     "user": {
      "displayName": "李哲",
      "photoUrl": "https://lh3.googleusercontent.com/a-/AOh14GgPSaDQL0KO4QQ5yr005cvXpyWfSyYMyvxyej4w=s64",
      "userId": "17492101088767945879"
     },
     "user_tz": -480
    },
    "id": "be882b29",
    "outputId": "916306c2-1e91-4435-b87b-2e848c40ff52"
   },
   "outputs": [
    {
     "data": {
      "image/png": "[encoded data removed]",
      "text/plain": [
       "<Figure size 432x288 with 1 Axes>"
      ]
     },
     "metadata": {
      "needs_background": "light"
     },
     "output_type": "display_data"
    }
   ],
   "source": [
    "# Plot alpha_i x y_i\n",
    "import matplotlib.pyplot as plt\n",
    "alphaY = svm.dual_coef_[0,:]\n",
    "plt.plot(alphaY)\n",
    "plt.xlabel('Sample index')\n",
    "plt.ylabel('alphaY')\n",
    "plt.show()"
   ]
  },
  {
   "cell_type": "code",
   "execution_count": 24,
   "id": "4b9b0de3",
   "metadata": {
    "colab": {
     "base_uri": "https://localhost:8080/",
     "height": 236
    },
    "executionInfo": {
     "elapsed": 324,
     "status": "ok",
     "timestamp": 1646058302103,
     "user": {
      "displayName": "李哲",
      "photoUrl": "https://lh3.googleusercontent.com/a-/AOh14GgPSaDQL0KO4QQ5yr005cvXpyWfSyYMyvxyej4w=s64",
      "userId": "17492101088767945879"
     },
     "user_tz": -480
    },
    "id": "a9f71e9d",
    "outputId": "e99eef67-c6b4-4345-88e9-8d37eb966166"
   },
   "outputs": [
    {
     "name": "stdout",
     "output_type": "stream",
     "text": [
      "Positive Class: Digit 0\n",
      "Negative class: Digit 6\n"
     ]
    },
    {
     "data": {
      "image/png": "[encoded data removed]",
      "text/plain": [
       "<Figure size 432x288 with 2 Axes>"
      ]
     },
     "metadata": {
      "needs_background": "light"
     },
     "output_type": "display_data"
    }
   ],
   "source": [
    "# Plot the most influential SV the positive-class and negative-class, respectively.\n",
    "# The SV from the positive class should be a Digit \"d\" but does not look like a \"d\"\n",
    "# The SV from the negative class should not be a \"d\" but looks like a \"d\"\n",
    "fig, ax = plt.subplots(nrows=1, ncols=2, sharex=True, sharey=True, )\n",
    "pos = np.argmax(alphaY)\n",
    "neg = np.argmin(alphaY)\n",
    "pos_img = svm.support_vectors_[pos].reshape(28,28)\n",
    "neg_img = svm.support_vectors_[neg].reshape(28,28)\n",
    "ax[0].imshow(pos_img, interpolation='nearest')\n",
    "ax[1].imshow(neg_img, interpolation='nearest')\n",
    "print(f'Positive Class: Digit {train_labels[svm.support_[pos]]}')\n",
    "print(f'Negative class: Digit {train_labels[svm.support_[neg]]}')"
   ]
  },
  {
   "cell_type": "code",
   "execution_count": null,
   "id": "8bd7c2dc",
   "metadata": {},
   "outputs": [],
   "source": []
  },
  {
   "cell_type": "code",
   "execution_count": null,
   "id": "ca6ee2c0",
   "metadata": {},
   "outputs": [],
   "source": [
    "# loading all of the data in the MNIST dataset\n",
    "from mnist import load_mnist\n",
    "trainpath = '../../lab1/data/noisy_train_digits.mat'\n",
    "testpath = '../../lab1/data/noisy_test_digits.mat'\n",
    "train_data, train_labels, test_data, test_labels= load_mnist(trainpath,testpath)\n",
    "print(train_data.shape)"
   ]
  }
 ],
 "metadata": {
  "colab": {
   "name": "SVM.ipynb",
   "provenance": []
  },
  "kernelspec": {
   "display_name": "Python 3 (ipykernel)",
   "language": "python",
   "name": "python3"
  },
  "language_info": {
   "codemirror_mode": {
    "name": "ipython",
    "version": 3
   },
   "file_extension": ".py",
   "mimetype": "text/x-python",
   "name": "python",
   "nbconvert_exporter": "python",
   "pygments_lexer": "ipython3",
   "version": "3.9.7"
  }
 },
 "nbformat": 4,
 "nbformat_minor": 5
}
