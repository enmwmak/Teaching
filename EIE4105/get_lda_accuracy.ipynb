{
 "cells": [
  {
   "cell_type": "markdown",
   "metadata": {
    "id": "4c1ebc60"
   },
   "source": [
    "# LDA Classification"
   ]
  },
  {
   "cell_type": "markdown",
   "metadata": {},
   "source": [
    "<font color='blue'>Step 15</font>"
   ]
  },
  {
   "cell_type": "code",
   "execution_count": 2,
   "metadata": {
    "colab": {
     "base_uri": "https://localhost:8080/"
    },
    "executionInfo": {
     "elapsed": 16501,
     "status": "ok",
     "timestamp": 1646057708462,
     "user": {
      "displayName": "李哲",
      "photoUrl": "https://lh3.googleusercontent.com/a-/AOh14GgPSaDQL0KO4QQ5yr005cvXpyWfSyYMyvxyej4w=s64",
      "userId": "17492101088767945879"
     },
     "user_tz": -480
    },
    "id": "58a0a411",
    "outputId": "cbe8fd10-fd02-4fda-b436-bce47b22a5d1",
    "scrolled": true
   },
   "outputs": [],
   "source": [
    "# Mount Google drive and cd to working folder\n",
    "from google.colab import drive\n",
    "drive.mount('/content/drive', force_remount=True)\n",
    "%cd /content/drive/My Drive/Learning/EIE4105/lab2/python/"
   ]
  },
  {
   "cell_type": "code",
   "execution_count": 3,
   "metadata": {
    "executionInfo": {
     "elapsed": 3,
     "status": "ok",
     "timestamp": 1646058146545,
     "user": {
      "displayName": "李哲",
      "photoUrl": "https://lh3.googleusercontent.com/a-/AOh14GgPSaDQL0KO4QQ5yr005cvXpyWfSyYMyvxyej4w=s64",
      "userId": "17492101088767945879"
     },
     "user_tz": -480
    },
    "id": "9e36015a"
   },
   "outputs": [],
   "source": [
    "import numpy as np\n",
    "from sklearn.discriminant_analysis import LinearDiscriminantAnalysis\n",
    "from scipy.stats import multivariate_normal as mvn"
   ]
  },
  {
   "cell_type": "code",
   "execution_count": 4,
   "metadata": {
    "colab": {
     "base_uri": "https://localhost:8080/"
    },
    "executionInfo": {
     "elapsed": 9268,
     "status": "ok",
     "timestamp": 1646057772717,
     "user": {
      "displayName": "李哲",
      "photoUrl": "https://lh3.googleusercontent.com/a-/AOh14GgPSaDQL0KO4QQ5yr005cvXpyWfSyYMyvxyej4w=s64",
      "userId": "17492101088767945879"
     },
     "user_tz": -480
    },
    "id": "876b372f",
    "outputId": "ab5e8189-a556-4fb7-d77d-21013033f1a7"
   },
   "outputs": [
    {
     "name": "stdout",
     "output_type": "stream",
     "text": [
      "(60000, 784)\n"
     ]
    }
   ],
   "source": [
    "# loading the data\n",
    "from mnist import load_mnist\n",
    "trainpath = '../../lab1/data/noisy_train_digits.mat'\n",
    "testpath = '../../lab1/data/noisy_test_digits.mat'\n",
    "train_data, train_labels, test_data, test_labels= load_mnist(trainpath,testpath)\n",
    "print(train_data.shape)"
   ]
  },
  {
   "cell_type": "code",
   "execution_count": 21,
   "metadata": {
    "colab": {
     "base_uri": "https://localhost:8080/"
    },
    "executionInfo": {
     "elapsed": 3869,
     "status": "ok",
     "timestamp": 1646057781380,
     "user": {
      "displayName": "李哲",
      "photoUrl": "https://lh3.googleusercontent.com/a-/AOh14GgPSaDQL0KO4QQ5yr005cvXpyWfSyYMyvxyej4w=s64",
      "userId": "17492101088767945879"
     },
     "user_tz": -480
    },
    "id": "cdac540d",
    "outputId": "f8b90945-dc11-43b8-bad6-c8fdc738ea32"
   },
   "outputs": [
    {
     "name": "stdout",
     "output_type": "stream",
     "text": [
      "(10000, 784)\n"
     ]
    }
   ],
   "source": [
    "# Load 1000 training samples per class\n",
    "from mnist import load_SampleMnist\n",
    "nSamples = 1000\n",
    "train_data, train_labels, test_data, test_labels = load_SampleMnist(trainpath,testpath,nSamples)\n",
    "print(train_data.shape)"
   ]
  },
  {
   "cell_type": "code",
   "execution_count": 22,
   "metadata": {
    "colab": {
     "base_uri": "https://localhost:8080/"
    },
    "executionInfo": {
     "elapsed": 3304,
     "status": "ok",
     "timestamp": 1646057786461,
     "user": {
      "displayName": "李哲",
      "photoUrl": "https://lh3.googleusercontent.com/a-/AOh14GgPSaDQL0KO4QQ5yr005cvXpyWfSyYMyvxyej4w=s64",
      "userId": "17492101088767945879"
     },
     "user_tz": -480
    },
    "id": "569fe14d",
    "outputId": "7a938c4d-6b8b-4b05-8556-a19c9d4a8962"
   },
   "outputs": [
    {
     "data": {
      "text/plain": [
       "LinearDiscriminantAnalysis()"
      ]
     },
     "execution_count": 22,
     "metadata": {},
     "output_type": "execute_result"
    }
   ],
   "source": [
    "# Train an LDA model\n",
    "lda = LinearDiscriminantAnalysis()\n",
    "lda.fit(train_data, train_labels)"
   ]
  },
  {
   "cell_type": "code",
   "execution_count": 23,
   "metadata": {
    "colab": {
     "base_uri": "https://localhost:8080/"
    },
    "executionInfo": {
     "elapsed": 3,
     "status": "ok",
     "timestamp": 1646057788307,
     "user": {
      "displayName": "李哲",
      "photoUrl": "https://lh3.googleusercontent.com/a-/AOh14GgPSaDQL0KO4QQ5yr005cvXpyWfSyYMyvxyej4w=s64",
      "userId": "17492101088767945879"
     },
     "user_tz": -480
    },
    "id": "6fb97cf1",
    "outputId": "943a8f4f-5e3d-41c2-cb2f-817ec438333b"
   },
   "outputs": [
    {
     "name": "stdout",
     "output_type": "stream",
     "text": [
      "(10000, 9)\n",
      "(10000, 9)\n"
     ]
    }
   ],
   "source": [
    "# Transform the training and test data\n",
    "X_trn = lda.transform(train_data)\n",
    "X_tst = lda.transform(test_data)\n",
    "print(X_trn.shape)\n",
    "print(X_tst.shape)"
   ]
  },
  {
   "cell_type": "code",
   "execution_count": 24,
   "metadata": {
    "executionInfo": {
     "elapsed": 312,
     "status": "ok",
     "timestamp": 1646057791813,
     "user": {
      "displayName": "李哲",
      "photoUrl": "https://lh3.googleusercontent.com/a-/AOh14GgPSaDQL0KO4QQ5yr005cvXpyWfSyYMyvxyej4w=s64",
      "userId": "17492101088767945879"
     },
     "user_tz": -480
    },
    "id": "6fbdfd2f"
   },
   "outputs": [],
   "source": [
    "class Gauss_class_diag():\n",
    "    \"\"\"\n",
    "    This class implements a Gaussian classifier with diagonal covariance matrices \n",
    "    \"\"\"\n",
    "    def fit(self, X, y, epsilon = 0.5e-1): \n",
    "        self.stats = dict()\n",
    "        self.priors = dict()\n",
    "        self.labels = set(y.astype(int))    # Unique class labels: 0,1,2,...,K-1 \n",
    "\n",
    "        for k in self.labels:    \n",
    "            X_k = X[y==k,:]     # Select data from the k-th class\n",
    "            self.stats[k] = {\"mean\":X_k.mean(axis=0), \"cov\":X_k.var(axis=0) + epsilon }\n",
    "            self.priors[k]=len(X_k)/len(X)\n",
    "\n",
    "    def predict(self, X):\n",
    "        N, D = X.shape\n",
    "        P_hat = np.zeros((N,len(self.labels)))\n",
    "        for k, s in self.stats.items():\n",
    "            P_hat[:,k] = mvn.logpdf(X, s[\"mean\"], s[\"cov\"]) + np.log(self.priors[k]) \n",
    "  \n",
    "        return P_hat.argmax(axis=1)"
   ]
  },
  {
   "cell_type": "code",
   "execution_count": 25,
   "metadata": {
    "executionInfo": {
     "elapsed": 308,
     "status": "ok",
     "timestamp": 1646057794578,
     "user": {
      "displayName": "李哲",
      "photoUrl": "https://lh3.googleusercontent.com/a-/AOh14GgPSaDQL0KO4QQ5yr005cvXpyWfSyYMyvxyej4w=s64",
      "userId": "17492101088767945879"
     },
     "user_tz": -480
    },
    "id": "a48b186c"
   },
   "outputs": [],
   "source": [
    "class Gauss_class_full():\n",
    "    \"\"\"\n",
    "    This class implements a Gaussian classifier with full covariance matrices\n",
    "    \"\"\"\n",
    "    def fit(self, X,y, epsilon=0.5e-1):\n",
    "        self.stats = dict()\n",
    "        self.priors = dict()\n",
    "        self.labels = set(y.astype(int))\n",
    "        \n",
    "        for k in self.labels:\n",
    "            X_k = X[y==k,:]\n",
    "            N_k,D = X_k.shape   # N_k=total number of observations of that class\n",
    "            mu_k = X_k.mean(axis=0)\n",
    "            self.stats[k] = {\"mean\":X_k.mean(axis=0), \n",
    "                              \"cov\": (1/(N_k-1))*np.matmul((X_k-mu_k).T, X_k-mu_k) + \n",
    "                             epsilon*np.identity(D)}\n",
    "            self.priors[k] = len(X_k)/len(X)\n",
    "    \n",
    "    \n",
    "    def predict(self, X):\n",
    "        N,D = X.shape\n",
    "        P_hat = np.zeros((N,len(self.labels)))\n",
    "        \n",
    "        for k,s in self.stats.items():\n",
    "            P_hat[:,k] = mvn.logpdf(X, s[\"mean\"], s[\"cov\"]) + np.log(self.priors[k])\n",
    "        \n",
    "        return P_hat.argmax(axis=1)"
   ]
  },
  {
   "cell_type": "code",
   "execution_count": 26,
   "metadata": {
    "executionInfo": {
     "elapsed": 307,
     "status": "ok",
     "timestamp": 1646057797546,
     "user": {
      "displayName": "李哲",
      "photoUrl": "https://lh3.googleusercontent.com/a-/AOh14GgPSaDQL0KO4QQ5yr005cvXpyWfSyYMyvxyej4w=s64",
      "userId": "17492101088767945879"
     },
     "user_tz": -480
    },
    "id": "2dd583f8"
   },
   "outputs": [],
   "source": [
    "def accuracy(y, y_hat):\n",
    "    return np.mean(y==y_hat)"
   ]
  },
  {
   "cell_type": "code",
   "execution_count": 27,
   "metadata": {
    "colab": {
     "base_uri": "https://localhost:8080/"
    },
    "executionInfo": {
     "elapsed": 288,
     "status": "ok",
     "timestamp": 1646058151249,
     "user": {
      "displayName": "李哲",
      "photoUrl": "https://lh3.googleusercontent.com/a-/AOh14GgPSaDQL0KO4QQ5yr005cvXpyWfSyYMyvxyej4w=s64",
      "userId": "17492101088767945879"
     },
     "user_tz": -480
    },
    "id": "df101b27",
    "outputId": "ebbbb5a4-465a-4769-dcb9-03a116716661"
   },
   "outputs": [
    {
     "name": "stdout",
     "output_type": "stream",
     "text": [
      "0.8981\n"
     ]
    }
   ],
   "source": [
    "gcf = Gauss_class_full()\n",
    "gcf.fit(X_trn, train_labels)\n",
    "tst_pred = gcf.predict(X_tst)\n",
    "acc = accuracy(test_labels, tst_pred)\n",
    "print(acc)"
   ]
  },
  {
   "cell_type": "code",
   "execution_count": null,
   "metadata": {},
   "outputs": [],
   "source": []
  },
  {
   "cell_type": "code",
   "execution_count": null,
   "metadata": {},
   "outputs": [],
   "source": []
  }
 ],
 "metadata": {
  "colab": {
   "name": "get_lda_accuracy.ipynb",
   "provenance": []
  },
  "kernelspec": {
   "display_name": "Python 3",
   "language": "python",
   "name": "python3"
  },
  "language_info": {
   "codemirror_mode": {
    "name": "ipython",
    "version": 3
   },
   "file_extension": ".py",
   "mimetype": "text/x-python",
   "name": "python",
   "nbconvert_exporter": "python",
   "pygments_lexer": "ipython3",
   "version": "3.8.3"
  }
 },
 "nbformat": 4,
 "nbformat_minor": 5
}
